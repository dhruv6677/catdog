{
 "cells": [
  {
   "cell_type": "code",
   "execution_count": 2,
   "id": "c44127fe",
   "metadata": {},
   "outputs": [],
   "source": [
    "from keras.models import load_model\n",
    "from keras.preprocessing import image\n",
    "import numpy as np"
   ]
  },
  {
   "cell_type": "code",
   "execution_count": 3,
   "id": "138ab50e",
   "metadata": {},
   "outputs": [
    {
     "name": "stdout",
     "output_type": "stream",
     "text": [
      " Volume in drive C is Windows\n",
      " Volume Serial Number is FC91-C721\n",
      "\n",
      " Directory of c:\\Users\\Dhruv\\Desktop\\dogcat\n",
      "\n",
      "21-10-2025  11:33    <DIR>          .\n",
      "19-10-2025  17:39    <DIR>          ..\n",
      "17-10-2025  22:28    <DIR>          .idea\n",
      "17-10-2025  22:39    <DIR>          __pycache__\n",
      "17-10-2025  22:28            43,678 cat.jpg\n",
      "17-10-2025  22:28    <DIR>          cats_and_dogs_filtered\n",
      "17-10-2025  22:28             1,002 clientApp.py\n",
      "21-10-2025  10:05             2,480 cnn.py\n",
      "17-10-2025  22:28    <DIR>          com_in_ineuron_ai_utils\n",
      "21-10-2025  12:00            37,566 exam.ipynb\n",
      "17-10-2025  22:40           160,818 inputImage.jpg\n",
      "17-10-2025  22:28        47,278,408 model.h5\n",
      "21-10-2025  10:23               776 predict.py\n",
      "17-10-2025  22:28               486 requirements.txt\n",
      "17-10-2025  22:28    <DIR>          templates\n",
      "               8 File(s)     47,525,214 bytes\n",
      "               7 Dir(s)  48,327,516,160 bytes free\n"
     ]
    }
   ],
   "source": [
    "ls"
   ]
  },
  {
   "cell_type": "code",
   "execution_count": 4,
   "id": "537e3894",
   "metadata": {},
   "outputs": [
    {
     "name": "stdout",
     "output_type": "stream",
     "text": [
      "WARNING:tensorflow:From d:\\anaconda\\envs\\dog-cat\\lib\\site-packages\\keras\\backend\\tensorflow_backend.py:4070: The name tf.nn.max_pool is deprecated. Please use tf.nn.max_pool2d instead.\n",
      "\n",
      "WARNING:tensorflow:From d:\\anaconda\\envs\\dog-cat\\lib\\site-packages\\tensorflow\\python\\ops\\nn_impl.py:180: add_dispatch_support.<locals>.wrapper (from tensorflow.python.ops.array_ops) is deprecated and will be removed in a future version.\n",
      "Instructions for updating:\n",
      "Use tf.where in 2.0, which has the same broadcast rule as np.where\n",
      "WARNING:tensorflow:From d:\\anaconda\\envs\\dog-cat\\lib\\site-packages\\keras\\backend\\tensorflow_backend.py:422: The name tf.global_variables is deprecated. Please use tf.compat.v1.global_variables instead.\n",
      "\n"
     ]
    }
   ],
   "source": [
    "# 1️⃣ Load the trained model\n",
    "model = load_model('model.h5')"
   ]
  },
  {
   "cell_type": "code",
   "execution_count": 5,
   "id": "78b9fc66",
   "metadata": {},
   "outputs": [
    {
     "name": "stdout",
     "output_type": "stream",
     "text": [
      "Prediction: cat\n"
     ]
    }
   ],
   "source": [
    "img_path = 'cat.jpg'   # change this to your image path\n",
    "img = image.load_img(img_path, target_size=(64, 64)\n",
    "                     )  # same size as model input\n",
    "img_array = image.img_to_array(img)\n",
    "img_array = np.expand_dims(img_array, axis=0)  # add batch dimension\n",
    "img_array = img_array / 255.0  # normalize (same as training)\n",
    "\n",
    "# 3️⃣ Make prediction\n",
    "result = model.predict(img_array)\n",
    "\n",
    "# 4️⃣ Interpret the result\n",
    "# If you trained with class_mode='binary', class indices are usually {'cats': 0, 'dogs': 1}\n",
    "if result[0][0] > 0.5:\n",
    "    prediction = 'dog'\n",
    "else:\n",
    "    prediction = 'cat'\n",
    "\n",
    "print(f\"Prediction: {prediction}\")"
   ]
  },
  {
   "cell_type": "code",
   "execution_count": null,
   "id": "b795d4a0",
   "metadata": {},
   "outputs": [],
   "source": []
  }
 ],
 "metadata": {
  "kernelspec": {
   "display_name": "dog-cat",
   "language": "python",
   "name": "python3"
  },
  "language_info": {
   "codemirror_mode": {
    "name": "ipython",
    "version": 3
   },
   "file_extension": ".py",
   "mimetype": "text/x-python",
   "name": "python",
   "nbconvert_exporter": "python",
   "pygments_lexer": "ipython3",
   "version": "3.6.13"
  }
 },
 "nbformat": 4,
 "nbformat_minor": 5
}
